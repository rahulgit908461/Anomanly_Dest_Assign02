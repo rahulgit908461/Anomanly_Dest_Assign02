{
 "cells": [
  {
   "cell_type": "code",
   "execution_count": 1,
   "id": "93146e65-e766-4fb8-8666-5d20849800b9",
   "metadata": {},
   "outputs": [],
   "source": [
    "#Q1. What is the role of feature selection in anomaly detection?"
   ]
  },
  {
   "cell_type": "code",
   "execution_count": 2,
   "id": "5bfc48a6-b132-48a0-bd96-d9fdc0d5df99",
   "metadata": {},
   "outputs": [],
   "source": [
    "#A method for automatic feature selection in anomaly detection is proposed which determines optimal mixture \n",
    "#coefficients for various sets of features. The method generalizes the support vector data description (SVDD) and \n",
    "#can be expressed as a semi-infinite linear program that can be solved with standard techniques."
   ]
  },
  {
   "cell_type": "code",
   "execution_count": 3,
   "id": "df7bd97f-83ac-4644-a4d3-e0d9ed60f0fd",
   "metadata": {},
   "outputs": [],
   "source": [
    "#Q2. What are some common evaluation metrics for anomaly detection algorithms and how are they\n",
    "#computed?"
   ]
  },
  {
   "cell_type": "code",
   "execution_count": 4,
   "id": "5c4034a2-8417-46ec-909a-da873284ed77",
   "metadata": {},
   "outputs": [],
   "source": [
    "#Generally, in order to evaluate the quality of an anomaly detection technique, the confusion matrix and its \n",
    "#derived metrics such as precision and recall are used.\n",
    "#Isolation Forest.\n",
    "#Local Outlier Factor.\n",
    "#Robust Covariance.\n",
    "#One-Class SVM.\n",
    "#One-Class SVM (SGD)"
   ]
  },
  {
   "cell_type": "code",
   "execution_count": 5,
   "id": "172d2aa2-1de7-4847-8687-446a500da14a",
   "metadata": {},
   "outputs": [],
   "source": [
    "#Q3. What is DBSCAN and how does it work for clustering?"
   ]
  },
  {
   "cell_type": "code",
   "execution_count": 6,
   "id": "f46ae391-bd78-4d82-9a51-9b22c7503d98",
   "metadata": {},
   "outputs": [],
   "source": [
    "#DBSCAN works as such: Divides the dataset into n dimensions. For each point in the dataset, DBSCAN forms an n \n",
    "#dimensional shape around that data point, and then counts how many data points fall within that shape. DBSCAN \n",
    "#counts this shape as a cluster."
   ]
  },
  {
   "cell_type": "code",
   "execution_count": 7,
   "id": "b3f25d71-3e09-4b5c-bc19-5cc73f73026b",
   "metadata": {},
   "outputs": [],
   "source": [
    "#Q4. How does the epsilon parameter affect the performance of DBSCAN in detecting anomalies?"
   ]
  },
  {
   "cell_type": "code",
   "execution_count": 8,
   "id": "5ab346df-6157-4035-957c-14205cf7dc72",
   "metadata": {},
   "outputs": [],
   "source": [
    "#In other words, it is the distance that DBSCAN uses to determine if two points are similar and belong together. \n",
    "#A larger epsilon will produce broader clusters (encompassing more data points) and a smaller epsilon will build \n",
    "#smaller clusters."
   ]
  },
  {
   "cell_type": "code",
   "execution_count": 9,
   "id": "70b19d30-0f0e-4fdd-8f1a-c4787c9a5577",
   "metadata": {},
   "outputs": [],
   "source": [
    "#Q5. What are the differences between the core, border, and noise points in DBSCAN, and how do they relate\n",
    "#to anomaly detection?"
   ]
  },
  {
   "cell_type": "code",
   "execution_count": 11,
   "id": "c20cf778-7de5-444e-b7ce-270525df53c8",
   "metadata": {},
   "outputs": [],
   "source": [
    "#A point is a core point if it has more than a specified number of points (MinPts) within Eps—These are points that \n",
    "#are at the interior of a cluster. A border point has fewer than MinPts within Eps, but is in the neighborhood of a \n",
    "#core point. A noise point is any point that is not a core point nor a border point.\n",
    "#There are three types of points after the DBSCAN clustering is complete: Core — This is a point that has at least \n",
    "#m points within distance n from itself. Border — This is a point that has at least one Core point at a distance n.\n",
    "#Noise — This is a point that is neither a Core nor a Border."
   ]
  },
  {
   "cell_type": "code",
   "execution_count": 12,
   "id": "b974af81-917b-4323-894c-e8f78898ab18",
   "metadata": {},
   "outputs": [],
   "source": [
    "#Q6. How does DBSCAN detect anomalies and what are the key parameters involved in the process?"
   ]
  },
  {
   "cell_type": "code",
   "execution_count": 13,
   "id": "5ed193f1-973f-4e81-8344-a1ddb8367531",
   "metadata": {},
   "outputs": [],
   "source": [
    "#The DBSCAN (Density-Based Spatial Clustering of Applications with Noise) is a density-based clustering algorithm.\n",
    "#The main principle of this algorithm is that it finds core samples in a dense area and groups the samples around\n",
    "#those core samples to create clusters. The samples in a low-density area become the outliers.\n",
    "#DBSCAN requires only two parameters: epsilon and minPoints. Epsilon is the radius of the circle to be created \n",
    "#around each data point to check the density and minPoints is the minimum number of data points required inside that \n",
    "#circle for that data point to be classified as a Core point."
   ]
  },
  {
   "cell_type": "code",
   "execution_count": 14,
   "id": "424df101-c344-490e-b2e3-80ec6fbbab84",
   "metadata": {},
   "outputs": [],
   "source": [
    "#Q7. What is the make_circles package in scikit-learn used for?"
   ]
  },
  {
   "cell_type": "code",
   "execution_count": 16,
   "id": "194db352-2df6-48a4-8c7d-ebb00c9353ba",
   "metadata": {},
   "outputs": [],
   "source": [
    "#Make a large circle containing a smaller circle in 2d. A simple toy dataset to visualize clustering and \n",
    "#classification algorithms.\n",
    "\n",
    "#Scikit-Learn, also known as sklearn is a python library to implement machine learning models and statistical \n",
    "#modelling. Through scikit-learn, we can implement various machine learning models for regression, classification,\n",
    "#clustering, and statistical tools for analyzing these models."
   ]
  },
  {
   "cell_type": "code",
   "execution_count": 17,
   "id": "bb00a49c-96a1-4aac-ac12-8a304e33f339",
   "metadata": {},
   "outputs": [],
   "source": [
    "#Q8. What are local outliers and global outliers, and how do they differ from each other?"
   ]
  },
  {
   "cell_type": "code",
   "execution_count": 18,
   "id": "032b795f-bb27-445e-ac7c-73f1dd13a785",
   "metadata": {},
   "outputs": [],
   "source": [
    "#A global outlier is a measured sample point that has a very high or a very low value relative to all the values \n",
    "#in a dataset.\n",
    "#if its density essentially deviates from the local area in which it appears.\n",
    "#There are two general types of outlier detection: global and local. Global outliers fall outside the normal range\n",
    "#for an entire dataset, whereas local outliers may fall within the normal range for the entire dataset, but outside \n",
    "#the normal range for the surrounding data points."
   ]
  },
  {
   "cell_type": "code",
   "execution_count": 19,
   "id": "b91b7981-bf21-4203-acbe-da076e2b866c",
   "metadata": {},
   "outputs": [],
   "source": [
    "#Q9.How can local outliers be detected using the Local Outlier Factor (LOF) algorithm?"
   ]
  },
  {
   "cell_type": "code",
   "execution_count": 20,
   "id": "0a97da55-f5c6-414d-ad7c-628ef5cccd37",
   "metadata": {},
   "outputs": [],
   "source": [
    "#The Local Outlier Factor (LOF) algorithm is an unsupervised anomaly detection method which computes the local\n",
    "#density deviation of a given data point with respect to its neighbors. It considers as outliers the samples that \n",
    "#have a substantially lower density than their neighbors."
   ]
  },
  {
   "cell_type": "code",
   "execution_count": 21,
   "id": "ad561f43-9337-4f9e-87ed-c1aeb09d407c",
   "metadata": {},
   "outputs": [],
   "source": [
    "#Q10. How can global outliers be detected using the Isolation Forest algorithm?"
   ]
  },
  {
   "cell_type": "code",
   "execution_count": 22,
   "id": "c35197cf-8aeb-4d27-8f9f-ee380c929646",
   "metadata": {},
   "outputs": [],
   "source": [
    "#Isolation Forest is a model-based outlier detection method that attempts to isolate anomalies from the rest of the\n",
    "#data using an ensemble of decision trees. It does not rely on training a model on labelled data. This method \n",
    "#selects a feature and makes a random split in the data between the minimum and maximum values."
   ]
  },
  {
   "cell_type": "code",
   "execution_count": 23,
   "id": "d6c385e1-fa06-454a-bbb6-58746e44b8ce",
   "metadata": {},
   "outputs": [],
   "source": [
    "#Q11. What are some real-world applications where local outlier detection is more appropriate than global\n",
    "#outlier detection, and vice versa?"
   ]
  },
  {
   "cell_type": "code",
   "execution_count": 24,
   "id": "fc526550-ad82-427a-b87a-68dd7e4f3d9e",
   "metadata": {},
   "outputs": [],
   "source": [
    "#Catching and identifying anomalies is what we call anomaly or outlier detection. For example, if large sums of \n",
    "#money are spent one after another within one day and it is not your typical behavior, a bank can block your card. \n",
    "#They will see an unusual pattern in your daily transactions."
   ]
  },
  {
   "cell_type": "code",
   "execution_count": null,
   "id": "a0d0f160-b522-4bbf-8eca-35816aa23921",
   "metadata": {},
   "outputs": [],
   "source": []
  },
  {
   "cell_type": "code",
   "execution_count": null,
   "id": "98cb66f3-82b3-4bc7-b720-96acd7be9b69",
   "metadata": {},
   "outputs": [],
   "source": []
  }
 ],
 "metadata": {
  "kernelspec": {
   "display_name": "Python 3 (ipykernel)",
   "language": "python",
   "name": "python3"
  },
  "language_info": {
   "codemirror_mode": {
    "name": "ipython",
    "version": 3
   },
   "file_extension": ".py",
   "mimetype": "text/x-python",
   "name": "python",
   "nbconvert_exporter": "python",
   "pygments_lexer": "ipython3",
   "version": "3.10.8"
  }
 },
 "nbformat": 4,
 "nbformat_minor": 5
}
